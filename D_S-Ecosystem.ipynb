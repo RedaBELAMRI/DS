{
 "cells": [
  {
   "cell_type": "markdown",
   "id": "c89c4320",
   "metadata": {},
   "source": [
    "# Data Science Tools and Ecosystem"
   ]
  },
  {
   "cell_type": "markdown",
   "id": "ad19af99",
   "metadata": {},
   "source": [
    "In this notebook, Data Science Tools and Ecosystem are summarized."
   ]
  },
  {
   "cell_type": "markdown",
   "id": "fdfeed59",
   "metadata": {},
   "source": [
    "Some of the popular languages that Data Scientists use are:\n",
    "    \n",
    "    1. Python\n",
    "    2. R and R Studio\n",
    "    3. C++\n",
    "    4. JavaScript\n",
    "    5. Julia\n",
    "    6. Scala\n",
    "    etc."
   ]
  },
  {
   "cell_type": "markdown",
   "id": "750f046b",
   "metadata": {},
   "source": [
    "Some of the commonly used libraries used by Data Scientists include:\n",
    "    \n",
    "    1. Numpy\n",
    "    2. Scikit-learn\n",
    "    3. Matplotlib\n",
    "    4. SciPy\n",
    "    5. TensorFlow\n",
    "    6. Seaborn\n",
    "    7. Pandas"
   ]
  },
  {
   "cell_type": "markdown",
   "id": "c024a972",
   "metadata": {},
   "source": [
    "# Data Science Tools:\n",
    "\n",
    "1. Python\n",
    "2. R\n",
    "3. Apache Spark\n",
    "4. Tableau\n",
    "5. Power BI\n",
    "5. Watson Studio"
   ]
  },
  {
   "cell_type": "markdown",
   "id": "6f63f8d2",
   "metadata": {},
   "source": [
    "### Below are a few examples of evaluating arithmetic expressions in Python"
   ]
  },
  {
   "cell_type": "code",
   "execution_count": 4,
   "id": "8f5c0e29",
   "metadata": {},
   "outputs": [
    {
     "name": "stdout",
     "output_type": "stream",
     "text": [
      "Output is  17\n"
     ]
    }
   ],
   "source": [
    "#This a simple arithmetic expression to mutiply then add integers\n",
    "\n",
    "a = 3\n",
    "b = 4\n",
    "c = 5\n",
    "\n",
    "d = (a * b) + c\n",
    "\n",
    "print(\"Output is \", d)"
   ]
  },
  {
   "cell_type": "code",
   "execution_count": 5,
   "id": "397ddee8",
   "metadata": {},
   "outputs": [
    {
     "name": "stdout",
     "output_type": "stream",
     "text": [
      "3.3333333333333335\n"
     ]
    }
   ],
   "source": [
    "#This will convert 200 minutes to hours by diving by 60\n",
    "\n",
    "Minutes = 200\n",
    "\n",
    "Hours = Minutes/60\n",
    "\n",
    "print(Hours)"
   ]
  },
  {
   "cell_type": "markdown",
   "id": "3fc33eca",
   "metadata": {},
   "source": [
    "## Author : Reda BELAMRI"
   ]
  },
  {
   "cell_type": "markdown",
   "id": "f41152ca",
   "metadata": {},
   "source": [
    "**Objectives:**\n",
    "\n",
    "-Python\n",
    "-R\n",
    "-SQL\n",
    "-JavaSCript\n",
    "-Julia"
   ]
  },
  {
   "cell_type": "code",
   "execution_count": null,
   "id": "f81cdade",
   "metadata": {},
   "outputs": [],
   "source": []
  }
 ],
 "metadata": {
  "kernelspec": {
   "display_name": "Python 3 (ipykernel)",
   "language": "python",
   "name": "python3"
  },
  "language_info": {
   "codemirror_mode": {
    "name": "ipython",
    "version": 3
   },
   "file_extension": ".py",
   "mimetype": "text/x-python",
   "name": "python",
   "nbconvert_exporter": "python",
   "pygments_lexer": "ipython3",
   "version": "3.9.13"
  }
 },
 "nbformat": 4,
 "nbformat_minor": 5
}
